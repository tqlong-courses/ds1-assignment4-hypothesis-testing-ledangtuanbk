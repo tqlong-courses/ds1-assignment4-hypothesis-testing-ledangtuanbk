{
  "nbformat": 4,
  "nbformat_minor": 0,
  "metadata": {
    "colab": {
      "name": "Assignment 4.ipynb",
      "version": "0.3.2",
      "provenance": [],
      "collapsed_sections": []
    },
    "kernelspec": {
      "display_name": "Python 3",
      "language": "python",
      "name": "python3"
    }
  },
  "cells": [
    {
      "metadata": {
        "id": "uxeejtPVrYEZ",
        "colab_type": "text"
      },
      "cell_type": "markdown",
      "source": [
        "---\n",
        "\n",
        "_You are currently looking at **version 1.1** of this notebook. To download notebooks and datafiles, as well as get help on Jupyter notebooks in the Coursera platform, visit the [Jupyter Notebook FAQ](https://www.coursera.org/learn/python-data-analysis/resources/0dhYG) course resource._\n",
        "\n",
        "---"
      ]
    },
    {
      "metadata": {
        "id": "jONWT_jBrYEa",
        "colab_type": "code",
        "colab": {}
      },
      "cell_type": "code",
      "source": [
        "import pandas as pd\n",
        "import numpy as np\n",
        "from scipy.stats import ttest_ind"
      ],
      "execution_count": 0,
      "outputs": []
    },
    {
      "metadata": {
        "id": "JIQ_4Z8HDiVG",
        "colab_type": "code",
        "outputId": "1d2270a0-2c33-42d5-d174-12e46074e9a1",
        "colab": {
          "base_uri": "https://localhost:8080/",
          "height": 34
        }
      },
      "cell_type": "code",
      "source": [
        "from google.colab import drive\n",
        "drive.mount('/data')"
      ],
      "execution_count": 4,
      "outputs": [
        {
          "output_type": "stream",
          "text": [
            "Drive already mounted at /data; to attempt to forcibly remount, call drive.mount(\"/data\", force_remount=True).\n"
          ],
          "name": "stdout"
        }
      ]
    },
    {
      "metadata": {
        "id": "GhS9ITp_PpIG",
        "colab_type": "code",
        "outputId": "eef641ae-54c4-4e46-a559-d6a9149693c8",
        "colab": {
          "base_uri": "https://localhost:8080/",
          "height": 102
        }
      },
      "cell_type": "code",
      "source": [
        "!pip install xlrd"
      ],
      "execution_count": 2,
      "outputs": [
        {
          "output_type": "stream",
          "text": [
            "Collecting xlrd\n",
            "\u001b[?25l  Downloading https://files.pythonhosted.org/packages/07/e6/e95c4eec6221bfd8528bcc4ea252a850bffcc4be88ebc367e23a1a84b0bb/xlrd-1.1.0-py2.py3-none-any.whl (108kB)\n",
            "\u001b[K    100% |████████████████████████████████| 112kB 2.5MB/s \n",
            "\u001b[?25hInstalling collected packages: xlrd\n",
            "Successfully installed xlrd-1.1.0\n"
          ],
          "name": "stdout"
        }
      ]
    },
    {
      "metadata": {
        "id": "BbeGvKDHrYEd",
        "colab_type": "text"
      },
      "cell_type": "markdown",
      "source": [
        "``# Assignment 4 - Hypothesis Testing\n",
        "This assignment requires more individual learning than previous assignments - you are encouraged to check out the [pandas documentation](http://pandas.pydata.org/pandas-docs/stable/) to find functions or methods you might not have used yet, or ask questions on [Stack Overflow](http://stackoverflow.com/) and tag them as pandas and python related. And of course, the discussion forums are open for interaction with your peers and the course staff.\n",
        "\n",
        "Definitions:\n",
        "* A _quarter_ is a specific three month period, Q1 is January through March, Q2 is April through June, Q3 is July through September, Q4 is October through December.\n",
        "* A _recession_ is defined as starting with two consecutive quarters of GDP decline, and ending with two consecutive quarters of GDP growth.\n",
        "* A _recession bottom_ is the quarter within a recession which had the lowest GDP.\n",
        "* A _university town_ is a city which has a high percentage of university students compared to the total population of the city.\n",
        "\n",
        "**Hypothesis**: University towns have their mean housing prices less effected by recessions. Run a t-test to compare the ratio of the mean price of houses in university towns the quarter before the recession starts compared to the recession bottom. (`price_ratio=quarter_before_recession/recession_bottom`)\n",
        "\n",
        "The following data files are available for this assignment:\n",
        "* From the [Zillow research data site](http://www.zillow.com/research/data/) there is housing data for the United States. In particular the datafile for [all homes at a city level](http://files.zillowstatic.com/research/public/City/City_Zhvi_AllHomes.csv), ```City_Zhvi_AllHomes.csv```, has median home sale prices at a fine grained level.\n",
        "* From the Wikipedia page on college towns is a list of [university towns in the United States](https://en.wikipedia.org/wiki/List_of_college_towns#College_towns_in_the_United_States) which has been copy and pasted into the file ```university_towns.txt```.\n",
        "* From Bureau of Economic Analysis, US Department of Commerce, the [GDP over time](http://www.bea.gov/national/index.htm#gdp) of the United States in current dollars (use the chained value in 2009 dollars), in quarterly intervals, in the file ```gdplev.xls```. For this assignment, only look at GDP data from the first quarter of 2000 onward.\n",
        "\n",
        "Each function in this assignment below is worth 10%, with the exception of ```run_ttest()```, which is worth 50%."
      ]
    },
    {
      "metadata": {
        "id": "C4Ipe_YprYEe",
        "colab_type": "code",
        "colab": {}
      },
      "cell_type": "code",
      "source": [
        "# Use this dictionary to map state names to two letter acronyms\n",
        "states = {'OH': 'Ohio', 'KY': 'Kentucky', 'AS': 'American Samoa', 'NV': 'Nevada', 'WY': 'Wyoming', 'NA': 'National', 'AL': 'Alabama', 'MD': 'Maryland', 'AK': 'Alaska', 'UT': 'Utah', 'OR': 'Oregon', 'MT': 'Montana', 'IL': 'Illinois', 'TN': 'Tennessee', 'DC': 'District of Columbia', 'VT': 'Vermont', 'ID': 'Idaho', 'AR': 'Arkansas', 'ME': 'Maine', 'WA': 'Washington', 'HI': 'Hawaii', 'WI': 'Wisconsin', 'MI': 'Michigan', 'IN': 'Indiana', 'NJ': 'New Jersey', 'AZ': 'Arizona', 'GU': 'Guam', 'MS': 'Mississippi', 'PR': 'Puerto Rico', 'NC': 'North Carolina', 'TX': 'Texas', 'SD': 'South Dakota', 'MP': 'Northern Mariana Islands', 'IA': 'Iowa', 'MO': 'Missouri', 'CT': 'Connecticut', 'WV': 'West Virginia', 'SC': 'South Carolina', 'LA': 'Louisiana', 'KS': 'Kansas', 'NY': 'New York', 'NE': 'Nebraska', 'OK': 'Oklahoma', 'FL': 'Florida', 'CA': 'California', 'CO': 'Colorado', 'PA': 'Pennsylvania', 'DE': 'Delaware', 'NM': 'New Mexico', 'RI': 'Rhode Island', 'MN': 'Minnesota', 'VI': 'Virgin Islands', 'NH': 'New Hampshire', 'MA': 'Massachusetts', 'GA': 'Georgia', 'ND': 'North Dakota', 'VA': 'Virginia'}"
      ],
      "execution_count": 0,
      "outputs": []
    },
    {
      "metadata": {
        "id": "BTzTIJaSrYEh",
        "colab_type": "code",
        "colab": {}
      },
      "cell_type": "code",
      "source": [
        "def get_list_of_university_towns():\n",
        "    '''Returns a DataFrame of towns and the states they are in from the \n",
        "    university_towns.txt list. The format of the DataFrame should be:\n",
        "    DataFrame( [ [\"Michigan\", \"Ann Arbor\"], [\"Michigan\", \"Yipsilanti\"] ], \n",
        "    columns=[\"State\", \"RegionName\"]  )\n",
        "    \n",
        "    The following cleaning needs to be done:\n",
        "\n",
        "    1. For \"State\", removing characters from \"[\" to the end.\n",
        "    2. For \"RegionName\", when applicable, removing every character from \" (\" to the end.\n",
        "    3. Depending on how you read the data, you may need to remove newline character '\\n'. '''\n",
        "    \n",
        "    data = []\n",
        "    state = None\n",
        "    state_towns = []\n",
        "    with open('/data/My Drive/DS1/data/university_towns.txt') as file:\n",
        "        for line in file:\n",
        "            thisLine = line[:-1]\n",
        "            if thisLine[-6:] == '[edit]':\n",
        "                state = thisLine[:-6]\n",
        "                continue\n",
        "            if '(' in line:\n",
        "                town = thisLine[:thisLine.index('(') - 1]\n",
        "                state_towns.append([state, town])\n",
        "            else:\n",
        "                town = thisLine\n",
        "                state_towns.append([state, town])\n",
        "            data.append(thisLine)\n",
        "    df = pd.DataFrame(state_towns, columns=['State', 'RegionName'])\n",
        "    return df"
      ],
      "execution_count": 0,
      "outputs": []
    },
    {
      "metadata": {
        "id": "5PL3RGO0D2aO",
        "colab_type": "code",
        "colab": {}
      },
      "cell_type": "code",
      "source": [
        "get_list_of_university_towns()"
      ],
      "execution_count": 0,
      "outputs": []
    },
    {
      "metadata": {
        "id": "eXGGF76ZrYEj",
        "colab_type": "code",
        "colab": {
          "base_uri": "https://localhost:8080/",
          "height": 34
        },
        "outputId": "178456e7-ee2e-49d0-d539-31e2230f2333"
      },
      "cell_type": "code",
      "source": [
        "def get_recession_start():\n",
        "    '''Returns the year and quarter of the recession start time as a \n",
        "    string value in a format such as 2005q3'''\n",
        "    gdplev = pd.ExcelFile('/data/My Drive/DS1/data/gdplev.xls')\n",
        "    gdplev = gdplev.parse(\"Sheet1\", skiprows=219)\n",
        "    gdplev = gdplev[['1999q4', 9926.1]]\n",
        "    gdplev.columns = ['Quarter','GDP']\n",
        "    for i in range(4, len(gdplev)):\n",
        "        if (gdplev.iloc[i-4][1] > gdplev.iloc[i-3][1]) and (gdplev.iloc[i-3][1] > gdplev.iloc[i-2][1]) and (gdplev.iloc[i-2][1] < gdplev.iloc[i-1][1]) and (gdplev.iloc[i-1][1] < gdplev.iloc[i][1]):\n",
        "            return gdplev.iloc[i-4][0]\n",
        "get_recession_start()"
      ],
      "execution_count": 10,
      "outputs": [
        {
          "output_type": "execute_result",
          "data": {
            "text/plain": [
              "'2008q4'"
            ]
          },
          "metadata": {
            "tags": []
          },
          "execution_count": 10
        }
      ]
    },
    {
      "metadata": {
        "id": "hFnaNzz-GHjP",
        "colab_type": "code",
        "colab": {}
      },
      "cell_type": "code",
      "source": [
        "\n"
      ],
      "execution_count": 0,
      "outputs": []
    },
    {
      "metadata": {
        "id": "0Xm4cqU5rYEl",
        "colab_type": "code",
        "colab": {}
      },
      "cell_type": "code",
      "source": [
        "def get_recession_end():\n",
        "    '''Returns the year and quarter of the recession end time as a \n",
        "    string value in a format such as 2005q3'''\n",
        "    gdplev = pd.ExcelFile('/data/My Drive/DS1/data/gdplev.xls')\n",
        "    gdplev = gdplev.parse(\"Sheet1\", skiprows=219)\n",
        "    gdplev = gdplev[['1999q4', 9926.1]]\n",
        "    gdplev.columns = ['Quarter','GDP']\n",
        "    start = get_recession_start()\n",
        "    start_index = gdplev[gdplev['Quarter'] == start].index.tolist()[0]\n",
        "    gdplev=gdplev.iloc[start_index:]\n",
        "    for i in range(2, len(gdplev)):\n",
        "        if (gdplev.iloc[i-2][1] < gdplev.iloc[i-1][1]) and (gdplev.iloc[i-1][1] < gdplev.iloc[i][1]):\n",
        "            return gdplev.iloc[i][0]       \n",
        "    "
      ],
      "execution_count": 0,
      "outputs": []
    },
    {
      "metadata": {
        "id": "krw5IHBGrYEo",
        "colab_type": "code",
        "colab": {}
      },
      "cell_type": "code",
      "source": [
        "def get_recession_bottom():\n",
        "    '''Returns the year and quarter of the recession bottom time as a \n",
        "    string value in a format such as 2005q3'''\n",
        "    gdplev = pd.ExcelFile('/data/My Drive/DS1/data/gdplev.xls')\n",
        "    gdplev = gdplev.parse(\"Sheet1\", skiprows=219)\n",
        "    gdplev = gdplev[['1999q4', 9926.1]]\n",
        "    gdplev.columns = ['Quarter','GDP']\n",
        "    start = get_recession_start()\n",
        "    start_index = gdplev[gdplev['Quarter'] == start].index.tolist()[0]\n",
        "    end = get_recession_end()\n",
        "    end_index = gdplev[gdplev['Quarter'] == end].index.tolist()[0]\n",
        "    gdplev=gdplev.iloc[start_index:end_index+1]\n",
        "    bottom = gdplev['GDP'].min()\n",
        "    bottom_index = gdplev[gdplev['GDP'] == bottom].index.tolist()[0]-start_index\n",
        "    return gdplev.iloc[bottom_index]['Quarter']\n",
        "    return \"ANSWER\"\n",
        "get_recession_bottom()\n",
        "  "
      ],
      "execution_count": 0,
      "outputs": []
    },
    {
      "metadata": {
        "id": "dkxYzHtmrYEq",
        "colab_type": "code",
        "colab": {}
      },
      "cell_type": "code",
      "source": [
        "def convert_housing_data_to_quarters():\n",
        "    '''Converts the housing data to quarters and returns it as mean \n",
        "    values in a dataframe. This dataframe should be a dataframe with\n",
        "    columns for 2000q1 through 2016q3, and should have a multi-index\n",
        "    in the shape of [\"State\",\"RegionName\"].\n",
        "    \n",
        "    Note: Quarters are defined in the assignment description, they are\n",
        "    not arbitrary three month periods.\n",
        "    \n",
        "    The resulting dataframe should have 67 columns, and 10,730 rows.\n",
        "    '''\n",
        "    \n",
        "    return \"ANSWER\""
      ],
      "execution_count": 0,
      "outputs": []
    },
    {
      "metadata": {
        "id": "o-SVU3mprYEs",
        "colab_type": "code",
        "colab": {}
      },
      "cell_type": "code",
      "source": [
        "def run_ttest():\n",
        "    '''First creates new data showing the decline or growth of housing prices\n",
        "    between the recession start and the recession bottom. Then runs a ttest\n",
        "    comparing the university town values to the non-university towns values, \n",
        "    return whether the alternative hypothesis (that the two groups are the same)\n",
        "    is true or not as well as the p-value of the confidence. \n",
        "    \n",
        "    Return the tuple (different, p, better) where different=True if the t-test is\n",
        "    True at a p<0.01 (we reject the null hypothesis), or different=False if \n",
        "    otherwise (we cannot reject the null hypothesis). The variable p should\n",
        "    be equal to the exact p value returned from scipy.stats.ttest_ind(). The\n",
        "    value for better should be either \"university town\" or \"non-university town\"\n",
        "    depending on which has a lower mean price ratio (which is equivilent to a\n",
        "    reduced market loss).'''\n",
        "    \n",
        "    return \"ANSWER\""
      ],
      "execution_count": 0,
      "outputs": []
    }
  ]
}